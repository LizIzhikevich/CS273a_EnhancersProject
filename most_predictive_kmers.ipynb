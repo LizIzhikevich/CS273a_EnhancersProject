{
 "cells": [
  {
   "cell_type": "code",
   "execution_count": 69,
   "metadata": {
    "collapsed": true
   },
   "outputs": [],
   "source": [
    "import pickle\n",
    "import numpy as np\n",
    "from collections import Counter"
   ]
  },
  {
   "cell_type": "code",
   "execution_count": 2,
   "metadata": {
    "collapsed": true
   },
   "outputs": [],
   "source": [
    "# load model\n",
    "with open('best_results/best_random/trained_mdl.pickle', 'rb') as f:\n",
    "    trained_model = pickle.load(f)"
   ]
  },
  {
   "cell_type": "code",
   "execution_count": 7,
   "metadata": {
    "collapsed": true
   },
   "outputs": [],
   "source": [
    "with open('best_results/best_random/possible_6mers.pickle', 'rb') as f:\n",
    "    possible_6mers = pickle.load(f)"
   ]
  },
  {
   "cell_type": "code",
   "execution_count": 6,
   "metadata": {},
   "outputs": [
    {
     "data": {
      "text/plain": [
       "(15, 4096)"
      ]
     },
     "execution_count": 6,
     "metadata": {},
     "output_type": "execute_result"
    }
   ],
   "source": [
    "trained_model.coef_.shape"
   ]
  },
  {
   "cell_type": "code",
   "execution_count": 10,
   "metadata": {
    "collapsed": true
   },
   "outputs": [],
   "source": [
    "meaning = [\n",
    "    (1, 2),\n",
    "    (1, 3),\n",
    "    (1, 4),\n",
    "    (1, 5),\n",
    "    (1, 6),\n",
    "    (2, 3),\n",
    "    (2, 4),\n",
    "    (2, 5),\n",
    "    (2, 6),\n",
    "    (3, 4),\n",
    "    (3, 5),\n",
    "    (3, 6),\n",
    "    (4, 5),\n",
    "    (4, 6),\n",
    "    (5, 6)\n",
    "]"
   ]
  },
  {
   "cell_type": "code",
   "execution_count": 52,
   "metadata": {
    "collapsed": true
   },
   "outputs": [],
   "source": [
    "def most_predictive_kmers(class_num, coef, top_k=1):\n",
    "    ret = []\n",
    "    for meaning_tuple, tuple_coefs in zip(meaning, coef):\n",
    "        if class_num not in meaning_tuple:\n",
    "            continue\n",
    "        if class_num == meaning_tuple[0]:\n",
    "            best_index = (-tuple_coefs).argsort()[:top_k]\n",
    "        else:\n",
    "            best_index = (tuple_coefs).argsort()[:top_k]\n",
    "        print(\"{} {}\".format(\n",
    "            meaning_tuple,\n",
    "            [\n",
    "                (bi, possible_6mers[bi], tuple_coefs[bi])\n",
    "                for bi in best_index\n",
    "            ]\n",
    "        ))\n",
    "        ret.append((meaning_tuple, [\n",
    "                (bi, possible_6mers[bi], tuple_coefs[bi])\n",
    "                for bi in best_index\n",
    "            ]))\n",
    "    return ret"
   ]
  },
  {
   "cell_type": "code",
   "execution_count": 54,
   "metadata": {},
   "outputs": [
    {
     "name": "stdout",
     "output_type": "stream",
     "text": [
      "(1, 2) [(2007, 'CTTCCT', 0.024052291311996342), (3538, 'TCTCAG', 0.02099105343200036), (2031, 'CTTGTT', 0.02018904845256185)]\n",
      "(1, 3) [(1503, 'CCTCTT', 0.024331563132122397), (2044, 'CTTTTA', 0.023796938550377365), (4064, 'TTTGAA', 0.02217989795295957)]\n",
      "(1, 4) [(3840, 'TTAAAA', 0.025166516984640924), (4087, 'TTTTCT', 0.0230215290873413), (3986, 'TTGCAG', 0.021996774051108857)]\n",
      "(1, 5) [(1017, 'ATTTGC', 0.03103144104888595), (4030, 'TTGTTG', 0.030446794612003024), (4068, 'TTTGCA', 0.026120502119594102)]\n",
      "(1, 6) [(3840, 'TTAAAA', 0.019593181458120418), (4032, 'TTTAAA', 0.019170927336634013), (3, 'AAAAAT', 0.016649170152904014)]\n"
     ]
    }
   ],
   "source": [
    "ret_1 = most_predictive_kmers(1, trained_model.coef_, top_k=3)"
   ]
  },
  {
   "cell_type": "code",
   "execution_count": 56,
   "metadata": {},
   "outputs": [
    {
     "name": "stdout",
     "output_type": "stream",
     "text": [
      "(1, 2) [(3279, 'TATATT', -0.02780300654860446), (3647, 'TGATTT', -0.026288705511187026), (633, 'AGCTGC', -0.023705367277181616)]\n",
      "(2, 3) [(2, 'AAAAAG', 0.01770629074830219), (2044, 'CTTTTA', 0.017384029525561014), (1184, 'CAGGAA', 0.016797261694434296)]\n",
      "(2, 4) [(1938, 'CTGCAG', 0.027281833111084036), (831, 'ATATTT', 0.02573498564815046), (1987, 'CTTAAT', 0.023499719748043064)]\n",
      "(2, 5) [(3573, 'TCTTCC', 0.02558846303162301), (633, 'AGCTGC', 0.024196508399850956), (560, 'AGATAA', 0.02235323728228852)]\n",
      "(2, 6) [(0, 'AAAAAA', 0.02655150792665613), (41, 'AAAGGC', 0.017979339482088633), (1938, 'CTGCAG', 0.016693314470866277)]\n"
     ]
    }
   ],
   "source": [
    "ret_2 = most_predictive_kmers(2, trained_model.coef_, top_k=3)"
   ]
  },
  {
   "cell_type": "code",
   "execution_count": 57,
   "metadata": {},
   "outputs": [
    {
     "name": "stdout",
     "output_type": "stream",
     "text": [
      "(1, 3) [(1019, 'ATTTGT', -0.028358914420908654), (633, 'AGCTGC', -0.024636358635143976), (3279, 'TATATT', -0.02372844949989414)]\n",
      "(2, 3) [(963, 'ATTAAT', -0.02451511023178085), (3711, 'TGCTTT', -0.020398730631253574), (2602, 'GGAGGG', -0.019914437666776946)]\n",
      "(3, 4) [(2045, 'CTTTTC', 0.024668377941007617), (2602, 'GGAGGG', 0.01962849401115025), (1920, 'CTGAAA', 0.01922700536481258)]\n",
      "(3, 5) [(2602, 'GGAGGG', 0.021988680762830323), (2243, 'GATAAT', 0.020842734800095228), (2350, 'GCAGTG', 0.020787200821204464)]\n",
      "(3, 6) [(0, 'AAAAAA', 0.017912567546219876), (2045, 'CTTTTC', 0.016465417869809835), (4095, 'TTTTTT', 0.014230001041366847)]\n"
     ]
    }
   ],
   "source": [
    "ret_3 = most_predictive_kmers(3, trained_model.coef_, top_k=3)"
   ]
  },
  {
   "cell_type": "code",
   "execution_count": 59,
   "metadata": {},
   "outputs": [
    {
     "name": "stdout",
     "output_type": "stream",
     "text": [
      "(1, 4) [(4095, 'TTTTTT', -0.024875191158015064), (952, 'ATGTGA', -0.022670625879237703), (3100, 'TAACTA', -0.02151918869294399)]\n",
      "(2, 4) [(3888, 'TTATAA', -0.020331974982009848), (1514, 'CCTGGG', -0.019041619030006778), (3338, 'TCAAGG', -0.018459729165489405)]\n",
      "(3, 4) [(3540, 'TCTCCA', -0.02172030010245287), (639, 'AGCTTT', -0.016867355355759693), (3968, 'TTGAAA', -0.01622655300088447)]\n",
      "(4, 5) [(1374, 'CCCCTG', 0.025683575702932095), (3834, 'TGTTGG', 0.024944852024106033), (1144, 'CACTGA', 0.024895312450848722)]\n",
      "(4, 6) [(4095, 'TTTTTT', 0.03413264584449746), (0, 'AAAAAA', 0.026137323197944137), (1493, 'CCTCCC', 0.019692848945432898)]\n"
     ]
    }
   ],
   "source": [
    "ret_4 = most_predictive_kmers(4, trained_model.coef_, top_k=3)"
   ]
  },
  {
   "cell_type": "code",
   "execution_count": 60,
   "metadata": {},
   "outputs": [
    {
     "name": "stdout",
     "output_type": "stream",
     "text": [
      "(1, 5) [(4046, 'TTTATG', -0.02973718041877356), (3135, 'TAATTT', -0.029122543705897105), (1246, 'CATCTG', -0.02688542488429064)]\n",
      "(2, 5) [(1216, 'CATAAA', -0.02591823160129187), (324, 'ACCACA', -0.02526136980774496), (2062, 'GAAATG', -0.02386837527227921)]\n",
      "(3, 5) [(1952, 'CTGGAA', -0.023269157955139876), (1983, 'CTGTTT', -0.02175451273568836), (2032, 'CTTTAA', -0.020731349606502428)]\n",
      "(4, 5) [(4046, 'TTTATG', -0.03309584885233536), (60, 'AAATTA', -0.02741842435787651), (1216, 'CATAAA', -0.02654410752464534)]\n",
      "(5, 6) [(3822, 'TGTGTG', 0.018621016897163133), (3003, 'GTGTGT', 0.01744716843270314), (1092, 'CACACA', 0.015890562175866776)]\n"
     ]
    }
   ],
   "source": [
    "ret_5 = most_predictive_kmers(5, trained_model.coef_, top_k=3)"
   ]
  },
  {
   "cell_type": "code",
   "execution_count": 61,
   "metadata": {},
   "outputs": [
    {
     "name": "stdout",
     "output_type": "stream",
     "text": [
      "(1, 6) [(3315, 'TATTAT', -0.010204680499498277), (3888, 'TTATAA', -0.009781280422639347), (2764, 'GGTATA', -0.009727951272854736)]\n",
      "(2, 6) [(76, 'AACATA', -0.011945298339071805), (3888, 'TTATAA', -0.011162961401307188), (3265, 'TATAAC', -0.010760803982879725)]\n",
      "(3, 6) [(2764, 'GGTATA', -0.008285411611473918), (3315, 'TATTAT', -0.008104080080776913), (3277, 'TATATC', -0.007690905184124629)]\n",
      "(4, 6) [(2764, 'GGTATA', -0.010448314387614104), (2864, 'GTATAA', -0.01011144630867657), (3279, 'TATATT', -0.009519137419996625)]\n",
      "(5, 6) [(3313, 'TATTAC', -0.009106766369631284), (2864, 'GTATAA', -0.009104103597493599), (499, 'ACTTAT', -0.008852805284058659)]\n"
     ]
    }
   ],
   "source": [
    "ret_6 = most_predictive_kmers(6, trained_model.coef_, top_k = 3)"
   ]
  },
  {
   "cell_type": "code",
   "execution_count": 62,
   "metadata": {
    "collapsed": true
   },
   "outputs": [],
   "source": [
    "rets = ret_1 + ret_2 + ret_3 + ret_4 + ret_5 + ret_6"
   ]
  },
  {
   "cell_type": "code",
   "execution_count": 64,
   "metadata": {},
   "outputs": [
    {
     "data": {
      "text/plain": [
       "((1, 2),\n",
       " [(2007, 'CTTCCT', 0.024052291311996342),\n",
       "  (3538, 'TCTCAG', 0.02099105343200036),\n",
       "  (2031, 'CTTGTT', 0.02018904845256185)])"
      ]
     },
     "execution_count": 64,
     "metadata": {},
     "output_type": "execute_result"
    }
   ],
   "source": [
    "rets[0]"
   ]
  },
  {
   "cell_type": "code",
   "execution_count": 95,
   "metadata": {},
   "outputs": [
    {
     "data": {
      "text/plain": [
       "30"
      ]
     },
     "execution_count": 95,
     "metadata": {},
     "output_type": "execute_result"
    }
   ],
   "source": [
    "len(rets)"
   ]
  },
  {
   "cell_type": "code",
   "execution_count": 66,
   "metadata": {},
   "outputs": [],
   "source": [
    "predictive_kmers = [\n",
    "    tup[1]\n",
    "    for r in rets\n",
    "    for tup in r[1]\n",
    "]"
   ]
  },
  {
   "cell_type": "code",
   "execution_count": 71,
   "metadata": {},
   "outputs": [
    {
     "data": {
      "text/plain": [
       "[('AAAAAA', 3),\n",
       " ('GGAGGG', 3),\n",
       " ('AGCTGC', 3),\n",
       " ('TTATAA', 3),\n",
       " ('TTTTTT', 3),\n",
       " ('TATATT', 3),\n",
       " ('GGTATA', 3),\n",
       " ('TTAAAA', 2),\n",
       " ('TATTAT', 2),\n",
       " ('CATAAA', 2)]"
      ]
     },
     "execution_count": 71,
     "metadata": {},
     "output_type": "execute_result"
    }
   ],
   "source": [
    "Counter(predictive_kmers).most_common(10)"
   ]
  },
  {
   "cell_type": "code",
   "execution_count": 72,
   "metadata": {
    "collapsed": true
   },
   "outputs": [],
   "source": [
    "def compute_gc_content(predictive_kmers):\n",
    "    total_count = sum([\n",
    "        len(kmer) for kmer in predictive_kmers\n",
    "    ])\n",
    "    \n",
    "    gc_count = sum([\n",
    "        sum([\n",
    "            1 for base in kmer if base in ['G', 'C']\n",
    "        ])\n",
    "        for kmer in predictive_kmers\n",
    "    ])\n",
    "    \n",
    "    return gc_count / total_count"
   ]
  },
  {
   "cell_type": "code",
   "execution_count": 73,
   "metadata": {},
   "outputs": [
    {
     "data": {
      "text/plain": [
       "0.29444444444444445"
      ]
     },
     "execution_count": 73,
     "metadata": {},
     "output_type": "execute_result"
    }
   ],
   "source": [
    "compute_gc_content(predictive_kmers)"
   ]
  },
  {
   "cell_type": "code",
   "execution_count": 120,
   "metadata": {},
   "outputs": [],
   "source": [
    "def pretty_print(rets):\n",
    "    twod_array = []\n",
    "    for i, ret in enumerate(rets):\n",
    "        if i % 5 == 0:\n",
    "            twod_array.append([])\n",
    "        twod_array[-1].append([\n",
    "            kmer[1]\n",
    "            for kmer in ret[1]\n",
    "        ])\n",
    "    print('            | forebrain | midbrain | hindbrain | heart  |  limb  | others |')\n",
    "    print('|-----------|-----------|----------|-----------|--------|--------|--------|')\n",
    "    for i, (row, name) in enumerate(zip(twod_array, [\n",
    "        '| forebrain |', \n",
    "        '| midbrain  |', \n",
    "        '| hindbrain |',\n",
    "        '|   heart   |',\n",
    "        '|    limb   |',\n",
    "        '|   others  |'])):\n",
    "        row1_stuff = [row[0][0], row[1][0], row[2][0], row[3][0], row[4][0]]\n",
    "        row2_stuff = [row[0][1], row[1][1], row[2][1], row[3][1], row[4][1]]\n",
    "        row3_stuff = [row[0][2], row[1][0], row[2][2], row[3][2], row[4][2]]\n",
    "        row1_stuff.insert(i, '      ')\n",
    "        row2_stuff.insert(i, '      ')\n",
    "        row3_stuff.insert(i, '      ')\n",
    "        print('|           |   {}  |  {}  |  {}   | {} | {} | {} |'.format(\n",
    "            row1_stuff[0], row1_stuff[1], row1_stuff[2], row1_stuff[3], row1_stuff[4], row1_stuff[5], \n",
    "        ))\n",
    "        print('{}   {}  |  {}  |  {}   | {} | {} | {} |'.format(\n",
    "            name, row2_stuff[0], row2_stuff[1], row2_stuff[2], row2_stuff[3], row2_stuff[4], row2_stuff[5], \n",
    "        ))\n",
    "        print('|           |   {}  |  {}  |  {}   | {} | {} | {} |'.format(\n",
    "            row3_stuff[0], row3_stuff[1], row3_stuff[2], row3_stuff[3], row3_stuff[4], row3_stuff[5], \n",
    "        ))\n",
    "        print('|-----------|-----------|----------|-----------|--------|--------|--------|')\n",
    "    return twod_array"
   ]
  },
  {
   "cell_type": "code",
   "execution_count": 121,
   "metadata": {},
   "outputs": [
    {
     "name": "stdout",
     "output_type": "stream",
     "text": [
      "            | forebrain | midbrain | hindbrain | heart  |  limb  | others |\n",
      "|-----------|-----------|----------|-----------|--------|--------|--------|\n",
      "|           |           |  CTTCCT  |  CCTCTT   | TTAAAA | ATTTGC | TTAAAA |\n",
      "| forebrain |           |  TCTCAG  |  CTTTTA   | TTTTCT | TTGTTG | TTTAAA |\n",
      "|           |           |  CTTGTT  |  CCTCTT   | TTGCAG | TTTGCA | AAAAAT |\n",
      "|-----------|-----------|----------|-----------|--------|--------|--------|\n",
      "|           |   TATATT  |          |  AAAAAG   | CTGCAG | TCTTCC | AAAAAA |\n",
      "| midbrain  |   TGATTT  |          |  CTTTTA   | ATATTT | AGCTGC | AAAGGC |\n",
      "|           |   AGCTGC  |          |  AAAAAG   | CTTAAT | AGATAA | CTGCAG |\n",
      "|-----------|-----------|----------|-----------|--------|--------|--------|\n",
      "|           |   ATTTGT  |  ATTAAT  |           | CTTTTC | GGAGGG | AAAAAA |\n",
      "| hindbrain |   AGCTGC  |  TGCTTT  |           | GGAGGG | GATAAT | CTTTTC |\n",
      "|           |   TATATT  |  ATTAAT  |           | CTGAAA | GCAGTG | TTTTTT |\n",
      "|-----------|-----------|----------|-----------|--------|--------|--------|\n",
      "|           |   TTTTTT  |  TTATAA  |  TCTCCA   |        | CCCCTG | TTTTTT |\n",
      "|   heart   |   ATGTGA  |  CCTGGG  |  AGCTTT   |        | TGTTGG | AAAAAA |\n",
      "|           |   TAACTA  |  TTATAA  |  TTGAAA   |        | CACTGA | CCTCCC |\n",
      "|-----------|-----------|----------|-----------|--------|--------|--------|\n",
      "|           |   TTTATG  |  CATAAA  |  CTGGAA   | TTTATG |        | TGTGTG |\n",
      "|    limb   |   TAATTT  |  ACCACA  |  CTGTTT   | AAATTA |        | GTGTGT |\n",
      "|           |   CATCTG  |  CATAAA  |  CTTTAA   | CATAAA |        | CACACA |\n",
      "|-----------|-----------|----------|-----------|--------|--------|--------|\n",
      "|           |   TATTAT  |  AACATA  |  GGTATA   | GGTATA | TATTAC |        |\n",
      "|   others  |   TTATAA  |  TTATAA  |  TATTAT   | GTATAA | GTATAA |        |\n",
      "|           |   GGTATA  |  AACATA  |  TATATC   | TATATT | ACTTAT |        |\n",
      "|-----------|-----------|----------|-----------|--------|--------|--------|\n"
     ]
    },
    {
     "data": {
      "text/plain": [
       "[[['CTTCCT', 'TCTCAG', 'CTTGTT'],\n",
       "  ['CCTCTT', 'CTTTTA', 'TTTGAA'],\n",
       "  ['TTAAAA', 'TTTTCT', 'TTGCAG'],\n",
       "  ['ATTTGC', 'TTGTTG', 'TTTGCA'],\n",
       "  ['TTAAAA', 'TTTAAA', 'AAAAAT']],\n",
       " [['TATATT', 'TGATTT', 'AGCTGC'],\n",
       "  ['AAAAAG', 'CTTTTA', 'CAGGAA'],\n",
       "  ['CTGCAG', 'ATATTT', 'CTTAAT'],\n",
       "  ['TCTTCC', 'AGCTGC', 'AGATAA'],\n",
       "  ['AAAAAA', 'AAAGGC', 'CTGCAG']],\n",
       " [['ATTTGT', 'AGCTGC', 'TATATT'],\n",
       "  ['ATTAAT', 'TGCTTT', 'GGAGGG'],\n",
       "  ['CTTTTC', 'GGAGGG', 'CTGAAA'],\n",
       "  ['GGAGGG', 'GATAAT', 'GCAGTG'],\n",
       "  ['AAAAAA', 'CTTTTC', 'TTTTTT']],\n",
       " [['TTTTTT', 'ATGTGA', 'TAACTA'],\n",
       "  ['TTATAA', 'CCTGGG', 'TCAAGG'],\n",
       "  ['TCTCCA', 'AGCTTT', 'TTGAAA'],\n",
       "  ['CCCCTG', 'TGTTGG', 'CACTGA'],\n",
       "  ['TTTTTT', 'AAAAAA', 'CCTCCC']],\n",
       " [['TTTATG', 'TAATTT', 'CATCTG'],\n",
       "  ['CATAAA', 'ACCACA', 'GAAATG'],\n",
       "  ['CTGGAA', 'CTGTTT', 'CTTTAA'],\n",
       "  ['TTTATG', 'AAATTA', 'CATAAA'],\n",
       "  ['TGTGTG', 'GTGTGT', 'CACACA']],\n",
       " [['TATTAT', 'TTATAA', 'GGTATA'],\n",
       "  ['AACATA', 'TTATAA', 'TATAAC'],\n",
       "  ['GGTATA', 'TATTAT', 'TATATC'],\n",
       "  ['GGTATA', 'GTATAA', 'TATATT'],\n",
       "  ['TATTAC', 'GTATAA', 'ACTTAT']]]"
      ]
     },
     "execution_count": 121,
     "metadata": {},
     "output_type": "execute_result"
    }
   ],
   "source": [
    "pretty_print(rets)"
   ]
  },
  {
   "cell_type": "code",
   "execution_count": 87,
   "metadata": {},
   "outputs": [
    {
     "name": "stdout",
     "output_type": "stream",
     "text": [
      "            | forebrain | mindbrain | hindbrain | heart  |  limb  | others |\n",
      "|-----------|-----------|-----------|-----------|--------|--------|--------|\n",
      "|           |   CTTCCT  |  CTTCCT   |   CTTCCT  | CTTCCT | CTTCCT | CTTCCT |\n",
      "| forebrain |   CTTCCT  |  CTTCCT   |   CTTCCT  | CTTCCT | CTTCCT | CTTCCT |\n",
      "|           |   CTTCCT  |  CTTCCT   |   CTTCCT  | CTTCCT | CTTCCT | CTTCCT |\n",
      "|-----------|-----------|-----------|-----------|--------|--------|--------|\n"
     ]
    }
   ],
   "source": [
    "print('            | forebrain | mindbrain | hindbrain | heart  |  limb  | others |')\n",
    "print('|-----------|-----------|-----------|-----------|--------|--------|--------|')\n",
    "print('|           |   CTTCCT  |  CTTCCT   |   CTTCCT  | CTTCCT | CTTCCT | CTTCCT |')\n",
    "print('| forebrain |   CTTCCT  |  CTTCCT   |   CTTCCT  | CTTCCT | CTTCCT | CTTCCT |')\n",
    "print('|           |   CTTCCT  |  CTTCCT   |   CTTCCT  | CTTCCT | CTTCCT | CTTCCT |')\n",
    "print('|-----------|-----------|-----------|-----------|--------|--------|--------|')"
   ]
  }
 ],
 "metadata": {
  "kernelspec": {
   "display_name": "Python 3",
   "language": "python",
   "name": "python3"
  },
  "language_info": {
   "codemirror_mode": {
    "name": "ipython",
    "version": 3
   },
   "file_extension": ".py",
   "mimetype": "text/x-python",
   "name": "python",
   "nbconvert_exporter": "python",
   "pygments_lexer": "ipython3",
   "version": "3.5.6"
  }
 },
 "nbformat": 4,
 "nbformat_minor": 2
}
