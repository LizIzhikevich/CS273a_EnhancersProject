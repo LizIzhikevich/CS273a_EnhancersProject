{
 "cells": [
  {
   "cell_type": "code",
   "execution_count": 1,
   "metadata": {
    "collapsed": true
   },
   "outputs": [],
   "source": [
    "import pickle\n",
    "import numpy as np\n",
    "from collections import Counter"
   ]
  },
  {
   "cell_type": "code",
   "execution_count": 2,
   "metadata": {
    "collapsed": true
   },
   "outputs": [],
   "source": [
    "# load model\n",
    "with open('best_results/best_nonrandom/trained_mdl.pickle', 'rb') as f:\n",
    "    trained_model = pickle.load(f)"
   ]
  },
  {
   "cell_type": "code",
   "execution_count": 3,
   "metadata": {
    "collapsed": true
   },
   "outputs": [],
   "source": [
    "with open('best_results/best_nonrandom/possible_6mers.pickle', 'rb') as f:\n",
    "    possible_6mers = pickle.load(f)"
   ]
  },
  {
   "cell_type": "code",
   "execution_count": 4,
   "metadata": {},
   "outputs": [
    {
     "data": {
      "text/plain": [
       "(15, 4096)"
      ]
     },
     "execution_count": 4,
     "metadata": {},
     "output_type": "execute_result"
    }
   ],
   "source": [
    "trained_model.coef_.shape"
   ]
  },
  {
   "cell_type": "code",
   "execution_count": 5,
   "metadata": {
    "collapsed": true
   },
   "outputs": [],
   "source": [
    "meaning = [\n",
    "    (1, 2),\n",
    "    (1, 3),\n",
    "    (1, 4),\n",
    "    (1, 5),\n",
    "    (1, 6),\n",
    "    (2, 3),\n",
    "    (2, 4),\n",
    "    (2, 5),\n",
    "    (2, 6),\n",
    "    (3, 4),\n",
    "    (3, 5),\n",
    "    (3, 6),\n",
    "    (4, 5),\n",
    "    (4, 6),\n",
    "    (5, 6)\n",
    "]"
   ]
  },
  {
   "cell_type": "code",
   "execution_count": 6,
   "metadata": {
    "collapsed": true
   },
   "outputs": [],
   "source": [
    "def most_predictive_kmers(class_num, coef, top_k=1):\n",
    "    ret = []\n",
    "    for meaning_tuple, tuple_coefs in zip(meaning, coef):\n",
    "        if class_num not in meaning_tuple:\n",
    "            continue\n",
    "        if class_num == meaning_tuple[0]:\n",
    "            best_index = (-tuple_coefs).argsort()[:top_k]\n",
    "        else:\n",
    "            best_index = (tuple_coefs).argsort()[:top_k]\n",
    "        print(\"{} {}\".format(\n",
    "            meaning_tuple,\n",
    "            [\n",
    "                (bi, possible_6mers[bi], tuple_coefs[bi])\n",
    "                for bi in best_index\n",
    "            ]\n",
    "        ))\n",
    "        ret.append((meaning_tuple, [\n",
    "                (bi, possible_6mers[bi], tuple_coefs[bi])\n",
    "                for bi in best_index\n",
    "            ]))\n",
    "    return ret"
   ]
  },
  {
   "cell_type": "code",
   "execution_count": 7,
   "metadata": {},
   "outputs": [
    {
     "name": "stdout",
     "output_type": "stream",
     "text": [
      "(1, 2) [(1084, 'CAATTA', 0.01773984944202841), (3959, 'TTCTCT', 0.017719768815730508), (2007, 'CTTCCT', 0.017686474873381423)]\n",
      "(1, 3) [(1503, 'CCTCTT', 0.02270160551700845), (2044, 'CTTTTA', 0.020997951593760625), (4064, 'TTTGAA', 0.019826044925772945)]\n",
      "(1, 4) [(240, 'AATTAA', 0.017367417656043375), (3840, 'TTAAAA', 0.016935983182081643), (3132, 'TAATTA', 0.016529685242000363)]\n",
      "(1, 5) [(4030, 'TTGTTG', 0.021667983254479637), (4062, 'TTTCTG', 0.020819795775675942), (1017, 'ATTTGC', 0.019409410453400465)]\n",
      "(1, 6) [(240, 'AATTAA', 0.019384334099092043), (2044, 'CTTTTA', 0.01843625139698457), (3388, 'TCATTA', 0.017368551722240243)]\n"
     ]
    }
   ],
   "source": [
    "ret_1 = most_predictive_kmers(1, trained_model.coef_, top_k=3)"
   ]
  },
  {
   "cell_type": "code",
   "execution_count": 8,
   "metadata": {},
   "outputs": [
    {
     "name": "stdout",
     "output_type": "stream",
     "text": [
      "(1, 2) [(3279, 'TATATT', -0.024572626719548102), (4095, 'TTTTTT', -0.02069161747017481), (633, 'AGCTGC', -0.02005186620489171)]\n",
      "(2, 3) [(2044, 'CTTTTA', 0.01593118697267573), (1023, 'ATTTTT', 0.015392210894668037), (2, 'AAAAAG', 0.015216483475749658)]\n",
      "(2, 4) [(1938, 'CTGCAG', 0.018953740299680173), (831, 'ATATTT', 0.01868148693544301), (3, 'AAAAAT', 0.01840306593979321)]\n",
      "(2, 5) [(633, 'AGCTGC', 0.02069472143870551), (3573, 'TCTTCC', 0.017621270065447343), (5, 'AAAACC', 0.016073442741811262)]\n",
      "(2, 6) [(633, 'AGCTGC', 0.02293954892095259), (3111, 'TAAGCT', 0.019225171125558032), (3279, 'TATATT', 0.01830525524472336)]\n"
     ]
    }
   ],
   "source": [
    "ret_2 = most_predictive_kmers(2, trained_model.coef_, top_k=3)"
   ]
  },
  {
   "cell_type": "code",
   "execution_count": 9,
   "metadata": {},
   "outputs": [
    {
     "name": "stdout",
     "output_type": "stream",
     "text": [
      "(1, 3) [(1019, 'ATTTGT', -0.026056311960086613), (3279, 'TATATT', -0.02295469119605624), (783, 'ATAATT', -0.022446382752197416)]\n",
      "(2, 3) [(963, 'ATTAAT', -0.022567449145081082), (2602, 'GGAGGG', -0.01955499411267846), (3711, 'TGCTTT', -0.018452391372267743)]\n",
      "(3, 4) [(2045, 'CTTTTC', 0.018639079952260017), (2602, 'GGAGGG', 0.018455480026893012), (0, 'AAAAAA', 0.015617451284519815)]\n",
      "(3, 5) [(2602, 'GGAGGG', 0.01979010961624103), (1264, 'CATTAA', 0.018392789537144502), (3410, 'TCCCAG', 0.01741456432654774)]\n",
      "(3, 6) [(3711, 'TGCTTT', 0.024740015092917615), (2602, 'GGAGGG', 0.021785459910915184), (1264, 'CATTAA', 0.02051752511732844)]\n"
     ]
    }
   ],
   "source": [
    "ret_3 = most_predictive_kmers(3, trained_model.coef_, top_k=3)"
   ]
  },
  {
   "cell_type": "code",
   "execution_count": 10,
   "metadata": {},
   "outputs": [
    {
     "name": "stdout",
     "output_type": "stream",
     "text": [
      "(1, 4) [(4095, 'TTTTTT', -0.023522563280317266), (1160, 'CAGAGA', -0.01543167379604437), (3818, 'TGTGGG', -0.014838321730770765)]\n",
      "(2, 4) [(1514, 'CCTGGG', -0.016412620308675477), (2178, 'GAGAAG', -0.015612254037728996), (4014, 'TTGGTG', -0.01430932254681098)]\n",
      "(3, 4) [(3540, 'TCTCCA', -0.017853288931109587), (1314, 'CCAGAG', -0.014564549365601705), (1952, 'CTGGAA', -0.013467514295499423)]\n",
      "(4, 5) [(4095, 'TTTTTT', 0.017992538418427406), (297, 'ACAGGC', 0.01719619334803904), (3933, 'TTCCTC', 0.016316037680987036)]\n",
      "(4, 6) [(4095, 'TTTTTT', 0.021480272586380078), (1156, 'CAGACA', 0.01237797965718166), (1, 'AAAAAC', 0.012067607750539944)]\n"
     ]
    }
   ],
   "source": [
    "ret_4 = most_predictive_kmers(4, trained_model.coef_, top_k=3)"
   ]
  },
  {
   "cell_type": "code",
   "execution_count": 11,
   "metadata": {},
   "outputs": [
    {
     "name": "stdout",
     "output_type": "stream",
     "text": [
      "(1, 5) [(1246, 'CATCTG', -0.02061986417532504), (2062, 'GAAATG', -0.01818266254893662), (4046, 'TTTATG', -0.017831769808307613)]\n",
      "(2, 5) [(4, 'AAAACA', -0.02008694775189509), (2062, 'GAAATG', -0.020045298355785224), (324, 'ACCACA', -0.018973582506861725)]\n",
      "(3, 5) [(1952, 'CTGGAA', -0.020980321774676434), (1983, 'CTGTTT', -0.018066157338834404), (1885, 'CTCCTC', -0.01754250750449473)]\n",
      "(4, 5) [(4046, 'TTTATG', -0.018657945080165238), (60, 'AAATTA', -0.018534988651231835), (1365, 'CCCCCC', -0.017861086233831716)]\n",
      "(5, 6) [(2040, 'CTTTGA', 0.01813361839526416), (2032, 'CTTTAA', 0.016903150698555372), (4039, 'TTTACT', 0.016044470505381)]\n"
     ]
    }
   ],
   "source": [
    "ret_5 = most_predictive_kmers(5, trained_model.coef_, top_k=3)"
   ]
  },
  {
   "cell_type": "code",
   "execution_count": 12,
   "metadata": {},
   "outputs": [
    {
     "name": "stdout",
     "output_type": "stream",
     "text": [
      "(1, 6) [(1011, 'ATTTAT', -0.018040526998526582), (2062, 'GAAATG', -0.01604349072267594), (3402, 'TCCAGG', -0.01415902274260089)]\n",
      "(2, 6) [(4063, 'TTTCTT', -0.018874209916643056), (2007, 'CTTCCT', -0.018556702208293217), (160, 'AAGGAA', -0.01839560776063265)]\n",
      "(3, 6) [(1495, 'CCTCCT', -0.016752769785578617), (3822, 'TGTGTG', -0.016645004053853163), (3957, 'TTCTCC', -0.016149549061544956)]\n",
      "(4, 6) [(3, 'AAAAAT', -0.01402876987723059), (60, 'AAATTA', -0.013304624870057694), (0, 'AAAAAA', -0.01249074914689452)]\n",
      "(5, 6) [(3839, 'TGTTTT', -0.01511840135056769), (4030, 'TTGTTG', -0.014277727038308277), (2344, 'GCAGGA', -0.013858394210009915)]\n"
     ]
    }
   ],
   "source": [
    "ret_6 = most_predictive_kmers(6, trained_model.coef_, top_k = 3)"
   ]
  },
  {
   "cell_type": "code",
   "execution_count": 13,
   "metadata": {
    "collapsed": true
   },
   "outputs": [],
   "source": [
    "rets = ret_1 + ret_2 + ret_3 + ret_4 + ret_5 + ret_6"
   ]
  },
  {
   "cell_type": "code",
   "execution_count": 14,
   "metadata": {},
   "outputs": [
    {
     "data": {
      "text/plain": [
       "((1, 2),\n",
       " [(1084, 'CAATTA', 0.01773984944202841),\n",
       "  (3959, 'TTCTCT', 0.017719768815730508),\n",
       "  (2007, 'CTTCCT', 0.017686474873381423)])"
      ]
     },
     "execution_count": 14,
     "metadata": {},
     "output_type": "execute_result"
    }
   ],
   "source": [
    "rets[0]"
   ]
  },
  {
   "cell_type": "code",
   "execution_count": 15,
   "metadata": {},
   "outputs": [
    {
     "data": {
      "text/plain": [
       "30"
      ]
     },
     "execution_count": 15,
     "metadata": {},
     "output_type": "execute_result"
    }
   ],
   "source": [
    "len(rets)"
   ]
  },
  {
   "cell_type": "code",
   "execution_count": 16,
   "metadata": {
    "collapsed": true
   },
   "outputs": [],
   "source": [
    "predictive_kmers = [\n",
    "    tup[1]\n",
    "    for r in rets\n",
    "    for tup in r[1]\n",
    "]"
   ]
  },
  {
   "cell_type": "code",
   "execution_count": 17,
   "metadata": {},
   "outputs": [
    {
     "data": {
      "text/plain": [
       "[('TTTTTT', 4),\n",
       " ('GGAGGG', 4),\n",
       " ('AGCTGC', 3),\n",
       " ('CTTTTA', 3),\n",
       " ('TATATT', 3),\n",
       " ('GAAATG', 3),\n",
       " ('AAAAAT', 2),\n",
       " ('CATTAA', 2),\n",
       " ('TGCTTT', 2),\n",
       " ('AAATTA', 2)]"
      ]
     },
     "execution_count": 17,
     "metadata": {},
     "output_type": "execute_result"
    }
   ],
   "source": [
    "Counter(predictive_kmers).most_common(10)"
   ]
  },
  {
   "cell_type": "code",
   "execution_count": 18,
   "metadata": {
    "collapsed": true
   },
   "outputs": [],
   "source": [
    "def compute_gc_content(predictive_kmers):\n",
    "    total_count = sum([\n",
    "        len(kmer) for kmer in predictive_kmers\n",
    "    ])\n",
    "    \n",
    "    gc_count = sum([\n",
    "        sum([\n",
    "            1 for base in kmer if base in ['G', 'C']\n",
    "        ])\n",
    "        for kmer in predictive_kmers\n",
    "    ])\n",
    "    \n",
    "    return gc_count / total_count"
   ]
  },
  {
   "cell_type": "code",
   "execution_count": 19,
   "metadata": {},
   "outputs": [
    {
     "data": {
      "text/plain": [
       "0.3277777777777778"
      ]
     },
     "execution_count": 19,
     "metadata": {},
     "output_type": "execute_result"
    }
   ],
   "source": [
    "compute_gc_content(predictive_kmers)"
   ]
  },
  {
   "cell_type": "code",
   "execution_count": 20,
   "metadata": {
    "collapsed": true
   },
   "outputs": [],
   "source": [
    "def pretty_print(rets):\n",
    "    twod_array = []\n",
    "    for i, ret in enumerate(rets):\n",
    "        if i % 5 == 0:\n",
    "            twod_array.append([])\n",
    "        twod_array[-1].append([\n",
    "            kmer[1]\n",
    "            for kmer in ret[1]\n",
    "        ])\n",
    "    print('            | forebrain | midbrain | hindbrain | heart  |  limb  | others |')\n",
    "    print('|-----------|-----------|----------|-----------|--------|--------|--------|')\n",
    "    for i, (row, name) in enumerate(zip(twod_array, [\n",
    "        '| forebrain |', \n",
    "        '| midbrain  |', \n",
    "        '| hindbrain |',\n",
    "        '|   heart   |',\n",
    "        '|    limb   |',\n",
    "        '|   others  |'])):\n",
    "        row1_stuff = [row[0][0], row[1][0], row[2][0], row[3][0], row[4][0]]\n",
    "        row2_stuff = [row[0][1], row[1][1], row[2][1], row[3][1], row[4][1]]\n",
    "        row3_stuff = [row[0][2], row[1][0], row[2][2], row[3][2], row[4][2]]\n",
    "        row1_stuff.insert(i, '      ')\n",
    "        row2_stuff.insert(i, '      ')\n",
    "        row3_stuff.insert(i, '      ')\n",
    "        print('|           |   {}  |  {}  |  {}   | {} | {} | {} |'.format(\n",
    "            row1_stuff[0], row1_stuff[1], row1_stuff[2], row1_stuff[3], row1_stuff[4], row1_stuff[5], \n",
    "        ))\n",
    "        print('{}   {}  |  {}  |  {}   | {} | {} | {} |'.format(\n",
    "            name, row2_stuff[0], row2_stuff[1], row2_stuff[2], row2_stuff[3], row2_stuff[4], row2_stuff[5], \n",
    "        ))\n",
    "        print('|           |   {}  |  {}  |  {}   | {} | {} | {} |'.format(\n",
    "            row3_stuff[0], row3_stuff[1], row3_stuff[2], row3_stuff[3], row3_stuff[4], row3_stuff[5], \n",
    "        ))\n",
    "        print('|-----------|-----------|----------|-----------|--------|--------|--------|')\n",
    "    return twod_array"
   ]
  },
  {
   "cell_type": "code",
   "execution_count": 22,
   "metadata": {},
   "outputs": [
    {
     "name": "stdout",
     "output_type": "stream",
     "text": [
      "            | forebrain | midbrain | hindbrain | heart  |  limb  | others |\n",
      "|-----------|-----------|----------|-----------|--------|--------|--------|\n",
      "|           |           |  CAATTA  |  CCTCTT   | AATTAA | TTGTTG | AATTAA |\n",
      "| forebrain |           |  TTCTCT  |  CTTTTA   | TTAAAA | TTTCTG | CTTTTA |\n",
      "|           |           |  CTTCCT  |  CCTCTT   | TAATTA | ATTTGC | TCATTA |\n",
      "|-----------|-----------|----------|-----------|--------|--------|--------|\n",
      "|           |   TATATT  |          |  CTTTTA   | CTGCAG | AGCTGC | AGCTGC |\n",
      "| midbrain  |   TTTTTT  |          |  ATTTTT   | ATATTT | TCTTCC | TAAGCT |\n",
      "|           |   AGCTGC  |          |  CTTTTA   | AAAAAT | AAAACC | TATATT |\n",
      "|-----------|-----------|----------|-----------|--------|--------|--------|\n",
      "|           |   ATTTGT  |  ATTAAT  |           | CTTTTC | GGAGGG | TGCTTT |\n",
      "| hindbrain |   TATATT  |  GGAGGG  |           | GGAGGG | CATTAA | GGAGGG |\n",
      "|           |   ATAATT  |  ATTAAT  |           | AAAAAA | TCCCAG | CATTAA |\n",
      "|-----------|-----------|----------|-----------|--------|--------|--------|\n",
      "|           |   TTTTTT  |  CCTGGG  |  TCTCCA   |        | TTTTTT | TTTTTT |\n",
      "|   heart   |   CAGAGA  |  GAGAAG  |  CCAGAG   |        | ACAGGC | CAGACA |\n",
      "|           |   TGTGGG  |  CCTGGG  |  CTGGAA   |        | TTCCTC | AAAAAC |\n",
      "|-----------|-----------|----------|-----------|--------|--------|--------|\n",
      "|           |   CATCTG  |  AAAACA  |  CTGGAA   | TTTATG |        | CTTTGA |\n",
      "|    limb   |   GAAATG  |  GAAATG  |  CTGTTT   | AAATTA |        | CTTTAA |\n",
      "|           |   TTTATG  |  AAAACA  |  CTCCTC   | CCCCCC |        | TTTACT |\n",
      "|-----------|-----------|----------|-----------|--------|--------|--------|\n",
      "|           |   ATTTAT  |  TTTCTT  |  CCTCCT   | AAAAAT | TGTTTT |        |\n",
      "|   others  |   GAAATG  |  CTTCCT  |  TGTGTG   | AAATTA | TTGTTG |        |\n",
      "|           |   TCCAGG  |  TTTCTT  |  TTCTCC   | AAAAAA | GCAGGA |        |\n",
      "|-----------|-----------|----------|-----------|--------|--------|--------|\n"
     ]
    },
    {
     "data": {
      "text/plain": [
       "[[['CAATTA', 'TTCTCT', 'CTTCCT'],\n",
       "  ['CCTCTT', 'CTTTTA', 'TTTGAA'],\n",
       "  ['AATTAA', 'TTAAAA', 'TAATTA'],\n",
       "  ['TTGTTG', 'TTTCTG', 'ATTTGC'],\n",
       "  ['AATTAA', 'CTTTTA', 'TCATTA']],\n",
       " [['TATATT', 'TTTTTT', 'AGCTGC'],\n",
       "  ['CTTTTA', 'ATTTTT', 'AAAAAG'],\n",
       "  ['CTGCAG', 'ATATTT', 'AAAAAT'],\n",
       "  ['AGCTGC', 'TCTTCC', 'AAAACC'],\n",
       "  ['AGCTGC', 'TAAGCT', 'TATATT']],\n",
       " [['ATTTGT', 'TATATT', 'ATAATT'],\n",
       "  ['ATTAAT', 'GGAGGG', 'TGCTTT'],\n",
       "  ['CTTTTC', 'GGAGGG', 'AAAAAA'],\n",
       "  ['GGAGGG', 'CATTAA', 'TCCCAG'],\n",
       "  ['TGCTTT', 'GGAGGG', 'CATTAA']],\n",
       " [['TTTTTT', 'CAGAGA', 'TGTGGG'],\n",
       "  ['CCTGGG', 'GAGAAG', 'TTGGTG'],\n",
       "  ['TCTCCA', 'CCAGAG', 'CTGGAA'],\n",
       "  ['TTTTTT', 'ACAGGC', 'TTCCTC'],\n",
       "  ['TTTTTT', 'CAGACA', 'AAAAAC']],\n",
       " [['CATCTG', 'GAAATG', 'TTTATG'],\n",
       "  ['AAAACA', 'GAAATG', 'ACCACA'],\n",
       "  ['CTGGAA', 'CTGTTT', 'CTCCTC'],\n",
       "  ['TTTATG', 'AAATTA', 'CCCCCC'],\n",
       "  ['CTTTGA', 'CTTTAA', 'TTTACT']],\n",
       " [['ATTTAT', 'GAAATG', 'TCCAGG'],\n",
       "  ['TTTCTT', 'CTTCCT', 'AAGGAA'],\n",
       "  ['CCTCCT', 'TGTGTG', 'TTCTCC'],\n",
       "  ['AAAAAT', 'AAATTA', 'AAAAAA'],\n",
       "  ['TGTTTT', 'TTGTTG', 'GCAGGA']]]"
      ]
     },
     "execution_count": 22,
     "metadata": {},
     "output_type": "execute_result"
    }
   ],
   "source": [
    "pretty_print(rets)"
   ]
  },
  {
   "cell_type": "code",
   "execution_count": 87,
   "metadata": {},
   "outputs": [
    {
     "name": "stdout",
     "output_type": "stream",
     "text": [
      "            | forebrain | mindbrain | hindbrain | heart  |  limb  | others |\n",
      "|-----------|-----------|-----------|-----------|--------|--------|--------|\n",
      "|           |   CTTCCT  |  CTTCCT   |   CTTCCT  | CTTCCT | CTTCCT | CTTCCT |\n",
      "| forebrain |   CTTCCT  |  CTTCCT   |   CTTCCT  | CTTCCT | CTTCCT | CTTCCT |\n",
      "|           |   CTTCCT  |  CTTCCT   |   CTTCCT  | CTTCCT | CTTCCT | CTTCCT |\n",
      "|-----------|-----------|-----------|-----------|--------|--------|--------|\n"
     ]
    }
   ],
   "source": [
    "print('            | forebrain | mindbrain | hindbrain | heart  |  limb  | others |')\n",
    "print('|-----------|-----------|-----------|-----------|--------|--------|--------|')\n",
    "print('|           |   CTTCCT  |  CTTCCT   |   CTTCCT  | CTTCCT | CTTCCT | CTTCCT |')\n",
    "print('| forebrain |   CTTCCT  |  CTTCCT   |   CTTCCT  | CTTCCT | CTTCCT | CTTCCT |')\n",
    "print('|           |   CTTCCT  |  CTTCCT   |   CTTCCT  | CTTCCT | CTTCCT | CTTCCT |')\n",
    "print('|-----------|-----------|-----------|-----------|--------|--------|--------|')"
   ]
  }
 ],
 "metadata": {
  "kernelspec": {
   "display_name": "Python 3",
   "language": "python",
   "name": "python3"
  },
  "language_info": {
   "codemirror_mode": {
    "name": "ipython",
    "version": 3
   },
   "file_extension": ".py",
   "mimetype": "text/x-python",
   "name": "python",
   "nbconvert_exporter": "python",
   "pygments_lexer": "ipython3",
   "version": "3.5.6"
  }
 },
 "nbformat": 4,
 "nbformat_minor": 2
}
