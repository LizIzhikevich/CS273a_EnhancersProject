{
 "cells": [
  {
   "cell_type": "code",
   "execution_count": 4,
   "metadata": {},
   "outputs": [
    {
     "name": "stdout",
     "output_type": "stream",
     "text": [
      "SVC(C=1.0, cache_size=200, class_weight='balanced', coef0=0.0,\n",
      "  decision_function_shape='ovr', degree=3, gamma='auto', kernel='linear',\n",
      "  max_iter=-1, probability=True, random_state=None, shrinking=True,\n",
      "  tol=0.001, verbose=False)\n"
     ]
    }
   ],
   "source": [
    "# TODO: Load in trained models, the test labels, the predicted test probabilitites\n",
    "import pickle\n",
    "svm_clf = pickle.load(open('example_results/svm/svm_clf.pickle', 'rb'))\n",
    "print(svm_clf)"
   ]
  },
  {
   "cell_type": "code",
   "execution_count": null,
   "metadata": {
    "collapsed": true
   },
   "outputs": [],
   "source": []
  },
  {
   "cell_type": "code",
   "execution_count": 35,
   "metadata": {},
   "outputs": [],
   "source": [
    "svm_predicted = pickle.load(open('example_results/svm/svm_test_predicted.pickle', 'rb'))\n",
    "actual_y = pickle.load(open('example_Y_test.pickle', 'rb'))\n",
    "nb_predicted = pickle.load(open('example_results/nb/nb_test_predicted.pickle', 'rb'))\n",
    "\n",
    "def binarize_labels(actual_y, predicted_y, pos_label):\n",
    "    pred_y_formatted = predicted_y[:, pos_label]\n",
    "    actual_formatted = actual_y == pos_label\n",
    "    return actual_formatted.astype(int), pred_y_formatted"
   ]
  },
  {
   "cell_type": "code",
   "execution_count": 36,
   "metadata": {},
   "outputs": [],
   "source": [
    "actual_svm, predicted_svm = binarize_labels(actual_y, svm_predicted, 2)\n",
    "actual_nb, predicted_nb = binarize_labels(actual_y, nb_predicted, 2)"
   ]
  },
  {
   "cell_type": "code",
   "execution_count": 34,
   "metadata": {},
   "outputs": [
    {
     "data": {
      "text/plain": [
       "array([0.0523672 , 0.06056527, 0.02210823, 0.04475879, 0.04552897,\n",
       "       0.03691391, 0.03051585, 0.04026387, 0.04547241, 0.04350845,\n",
       "       0.04066162, 0.04126913, 0.04873806, 0.03777218, 0.04692212,\n",
       "       0.04969348, 0.05939977, 0.06939275, 0.05465057, 0.04721814,\n",
       "       0.04001636, 0.0410743 , 0.03854203, 0.03156058, 0.04596945,\n",
       "       0.04054053, 0.03480905, 0.05441887, 0.04040853, 0.05472771,\n",
       "       0.03072616, 0.04435856, 0.04731066, 0.04631467, 0.04673318,\n",
       "       0.03438419, 0.03878048, 0.05530544, 0.05374469, 0.04062985,\n",
       "       0.04975773, 0.05549375, 0.03727671, 0.04270278, 0.04313536,\n",
       "       0.03631127, 0.03912134, 0.04039619, 0.03693429, 0.04405838,\n",
       "       0.06297521, 0.04545898, 0.06027617, 0.0537421 , 0.03976975,\n",
       "       0.03890792, 0.04243466, 0.03944735, 0.04442754, 0.04841366,\n",
       "       0.03111676, 0.04566427, 0.03615871, 0.04469657, 0.04105532,\n",
       "       0.03400369, 0.03173693, 0.05021212, 0.05240226, 0.03360756,\n",
       "       0.03108368, 0.04033367, 0.0342919 , 0.05020224, 0.04459278,\n",
       "       0.04210667, 0.04223347, 0.04611834, 0.04623161, 0.04371579,\n",
       "       0.04701801, 0.04503808, 0.04577349, 0.04295345, 0.0451262 ,\n",
       "       0.0398606 , 0.03874351, 0.05221487, 0.0432826 , 0.04522786,\n",
       "       0.03956266, 0.05399091, 0.03859303, 0.04096856, 0.04771481,\n",
       "       0.04647229, 0.03557726, 0.04423796, 0.02618446, 0.0623407 ,\n",
       "       0.03843333, 0.0376288 , 0.03316452, 0.02880883, 0.02829414,\n",
       "       0.03765042, 0.04551261, 0.03870255, 0.04061981, 0.03958048,\n",
       "       0.06637099, 0.05536164, 0.03668388, 0.04018976, 0.04760188,\n",
       "       0.03731456, 0.03216886, 0.04510531, 0.04268566, 0.0401622 ,\n",
       "       0.0336695 , 0.0477608 , 0.02923058, 0.0379322 , 0.04237175,\n",
       "       0.03943068, 0.03881842, 0.02784663, 0.03321007, 0.0423782 ,\n",
       "       0.03741513, 0.04139874, 0.04725133, 0.04143762, 0.03873749,\n",
       "       0.03241552, 0.03507305, 0.04066874, 0.03347255, 0.03241525,\n",
       "       0.05892012, 0.0579738 , 0.05677511, 0.03679606, 0.03847667,\n",
       "       0.06029596, 0.01963306, 0.03475085, 0.02962499, 0.02947527,\n",
       "       0.03967492, 0.04903884, 0.02641886, 0.04795246, 0.03613653,\n",
       "       0.04236177, 0.02050932, 0.03520906, 0.04477729, 0.09530543,\n",
       "       0.04813031, 0.03772237, 0.05670158, 0.05958258, 0.03183514,\n",
       "       0.02951052, 0.03317916, 0.03614133, 0.03402082, 0.01622385,\n",
       "       0.03523187, 0.03454012, 0.03859268, 0.03879547, 0.03899173,\n",
       "       0.03587961, 0.02481288, 0.03461707, 0.03009506, 0.03219146,\n",
       "       0.04597955, 0.04169236, 0.0297613 , 0.0402325 , 0.02742188,\n",
       "       0.03776915, 0.0507214 , 0.04647512, 0.01484966, 0.023304  ,\n",
       "       0.05442332, 0.05414984, 0.0216962 , 0.02734725, 0.03706391,\n",
       "       0.03761894, 0.04317339, 0.04287502, 0.0173169 , 0.04417819,\n",
       "       0.03514349, 0.02034194, 0.03538886, 0.02207996, 0.03768599,\n",
       "       0.03909397, 0.02651526, 0.02650464, 0.02615259, 0.04364084,\n",
       "       0.03998955, 0.01802717, 0.01793858, 0.02890248, 0.01942753,\n",
       "       0.02448204, 0.02243311, 0.0173552 , 0.02719093, 0.03855902,\n",
       "       0.02184445, 0.03066097, 0.02696794, 0.03043803, 0.03292774,\n",
       "       0.04496279, 0.03898452, 0.0527376 , 0.01956545, 0.05668784,\n",
       "       0.03407628, 0.02368347, 0.0373147 , 0.03108157, 0.01174576,\n",
       "       0.0356934 , 0.00906444, 0.02487482, 0.03441484, 0.02633342,\n",
       "       0.01725012, 0.03949181, 0.03030017, 0.0521724 , 0.01405326,\n",
       "       0.04891888, 0.0225108 , 0.01691915, 0.02825376, 0.04667177,\n",
       "       0.02071727, 0.02673104, 0.0260452 , 0.0176105 , 0.03606562,\n",
       "       0.0338301 , 0.03316203, 0.03293052, 0.02271022, 0.03217907,\n",
       "       0.03011879, 0.01703073, 0.04025757, 0.02930055, 0.03366677,\n",
       "       0.03111632, 0.01944405, 0.03163294, 0.02592519, 0.03562068,\n",
       "       0.02627666, 0.02783739, 0.02983384, 0.03214958, 0.0246643 ,\n",
       "       0.02862907, 0.03970711, 0.02840564, 0.03070834, 0.02597085,\n",
       "       0.03088035, 0.0245789 , 0.0292824 , 0.0432466 , 0.0298311 ,\n",
       "       0.03004256, 0.02923701, 0.03743578, 0.03720609, 0.03227825,\n",
       "       0.03651505, 0.04190083, 0.03299153, 0.02917419, 0.03301511,\n",
       "       0.03404383, 0.04331228, 0.04921713, 0.03333698, 0.03593309,\n",
       "       0.04384693, 0.03830333, 0.02872134, 0.03651633, 0.02575598,\n",
       "       0.02238707, 0.02153631, 0.0382671 , 0.02275225, 0.03204618,\n",
       "       0.06146296, 0.04535485, 0.03735046, 0.05415874, 0.02408729,\n",
       "       0.03276298, 0.02800145, 0.02308692, 0.03133104, 0.03424109,\n",
       "       0.02132772, 0.03502354, 0.04954527, 0.02016134, 0.03432096,\n",
       "       0.03081363, 0.0123371 , 0.01421497, 0.02876609, 0.04658106,\n",
       "       0.02116262, 0.03712297, 0.03146154, 0.04557877, 0.0291203 ,\n",
       "       0.03210915, 0.03923918, 0.01809382, 0.04114238, 0.04186574,\n",
       "       0.02450924, 0.0274227 , 0.03172228, 0.04631013, 0.03753661,\n",
       "       0.02878709, 0.03368171, 0.02439585, 0.03652099, 0.01259332,\n",
       "       0.01583299, 0.02435776, 0.01938167, 0.02183606, 0.02677969,\n",
       "       0.01759879, 0.01387995, 0.03678798, 0.03704461, 0.01835333,\n",
       "       0.02609087, 0.03053307, 0.04449259, 0.00822411, 0.03278657,\n",
       "       0.04119603, 0.03451351, 0.0319567 , 0.0234539 , 0.02358973,\n",
       "       0.04494606, 0.02417476, 0.04200009, 0.03004152, 0.03605304,\n",
       "       0.02618273, 0.04097165])"
      ]
     },
     "execution_count": 34,
     "metadata": {},
     "output_type": "execute_result"
    }
   ],
   "source": []
  },
  {
   "cell_type": "code",
   "execution_count": 50,
   "metadata": {},
   "outputs": [
    {
     "data": {
      "image/png": "[encoded data removed]",
      "text/plain": [
       "<Figure size 432x288 with 1 Axes>"
      ]
     },
     "metadata": {},
     "output_type": "display_data"
    }
   ],
   "source": [
    "# TODO: Plot ROC to compare best model and baseline Naive Bayes model\n",
    "from sklearn.metrics import roc_curve\n",
    "import matplotlib.pyplot as plt\n",
    "x, y, threshold = roc_curve(actual, predicted)\n",
    "plt.title('ROC Curve for ')\n",
    "plt.plot(x, y)\n",
    "plt.plot([0,1], [0,1])\n",
    "plt.show()\n",
    "\n",
    "# TODO: Plot the precision-recall curves"
   ]
  },
  {
   "cell_type": "code",
   "execution_count": null,
   "metadata": {
    "collapsed": true
   },
   "outputs": [],
   "source": [
    "# TODO: For the best model, get the 6mer sequences with the top 10 most positive coefficients for each enhancer type\n",
    "# in the best model\n",
    "# TODO: Print them in a table for comparison.\n",
    "# TODO: Compare their overlap in terms of set.\n",
    "# TODO: Analyze and compare their ATGC content."
   ]
  }
 ],
 "metadata": {
  "kernelspec": {
   "display_name": "Python 3",
   "language": "python",
   "name": "python3"
  },
  "language_info": {
   "codemirror_mode": {
    "name": "ipython",
    "version": 3
   },
   "file_extension": ".py",
   "mimetype": "text/x-python",
   "name": "python",
   "nbconvert_exporter": "python",
   "pygments_lexer": "ipython3",
   "version": "3.5.6"
  }
 },
 "nbformat": 4,
 "nbformat_minor": 2
}
